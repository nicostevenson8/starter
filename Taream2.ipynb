{
  "nbformat": 4,
  "nbformat_minor": 0,
  "metadata": {
    "colab": {
      "provenance": [],
      "authorship_tag": "ABX9TyNhWIJAllmgjoWC0vzq4KGh",
      "include_colab_link": true
    },
    "kernelspec": {
      "name": "python3",
      "display_name": "Python 3"
    },
    "language_info": {
      "name": "python"
    }
  },
  "cells": [
    {
      "cell_type": "markdown",
      "metadata": {
        "id": "view-in-github",
        "colab_type": "text"
      },
      "source": [
        "<a href=\"https://colab.research.google.com/github/nicostevenson8/starter/blob/main/Taream2.ipynb\" target=\"_parent\"><img src=\"https://colab.research.google.com/assets/colab-badge.svg\" alt=\"Open In Colab\"/></a>"
      ]
    },
    {
      "cell_type": "code",
      "execution_count": null,
      "metadata": {
        "id": "PMW28vtIDBwy"
      },
      "outputs": [],
      "source": []
    },
    {
      "cell_type": "markdown",
      "source": [
        "Problema 1.\n",
        "Hacer un programa que imprima los números del 1 al 100."
      ],
      "metadata": {
        "id": "YyOu5I6aDLL4"
      }
    },
    {
      "cell_type": "code",
      "source": [
        "print(range(100))\n",
        "\n",
        "for x in range(100):\n",
        "  print(x+1)\n",
        "\n",
        ""
      ],
      "metadata": {
        "colab": {
          "base_uri": "https://localhost:8080/"
        },
        "id": "2iHdfmHPDVWJ",
        "outputId": "53f1bf7e-a45b-4ab2-ac15-1c9daf7b3437"
      },
      "execution_count": 1,
      "outputs": [
        {
          "output_type": "stream",
          "name": "stdout",
          "text": [
            "range(0, 100)\n",
            "1\n",
            "2\n",
            "3\n",
            "4\n",
            "5\n",
            "6\n",
            "7\n",
            "8\n",
            "9\n",
            "10\n",
            "11\n",
            "12\n",
            "13\n",
            "14\n",
            "15\n",
            "16\n",
            "17\n",
            "18\n",
            "19\n",
            "20\n",
            "21\n",
            "22\n",
            "23\n",
            "24\n",
            "25\n",
            "26\n",
            "27\n",
            "28\n",
            "29\n",
            "30\n",
            "31\n",
            "32\n",
            "33\n",
            "34\n",
            "35\n",
            "36\n",
            "37\n",
            "38\n",
            "39\n",
            "40\n",
            "41\n",
            "42\n",
            "43\n",
            "44\n",
            "45\n",
            "46\n",
            "47\n",
            "48\n",
            "49\n",
            "50\n",
            "51\n",
            "52\n",
            "53\n",
            "54\n",
            "55\n",
            "56\n",
            "57\n",
            "58\n",
            "59\n",
            "60\n",
            "61\n",
            "62\n",
            "63\n",
            "64\n",
            "65\n",
            "66\n",
            "67\n",
            "68\n",
            "69\n",
            "70\n",
            "71\n",
            "72\n",
            "73\n",
            "74\n",
            "75\n",
            "76\n",
            "77\n",
            "78\n",
            "79\n",
            "80\n",
            "81\n",
            "82\n",
            "83\n",
            "84\n",
            "85\n",
            "86\n",
            "87\n",
            "88\n",
            "89\n",
            "90\n",
            "91\n",
            "92\n",
            "93\n",
            "94\n",
            "95\n",
            "96\n",
            "97\n",
            "98\n",
            "99\n",
            "100\n"
          ]
        }
      ]
    },
    {
      "cell_type": "markdown",
      "source": [
        "Problema 2. Hacer un programa que imprima los números del 1 al 100 que sean divisibles entre 3 (con resto 0)"
      ],
      "metadata": {
        "id": "mnKFCZJyIY7r"
      }
    },
    {
      "cell_type": "code",
      "source": [
        "for x in range(100):\n",
        "\n",
        "    if (x+1) % 3 == 0:\n",
        "      print(x+1)"
      ],
      "metadata": {
        "colab": {
          "base_uri": "https://localhost:8080/"
        },
        "id": "JhZDm328bmOs",
        "outputId": "2a62de59-30a2-4fcb-f3d1-b3550825cf75"
      },
      "execution_count": 5,
      "outputs": [
        {
          "output_type": "stream",
          "name": "stdout",
          "text": [
            "3\n",
            "6\n",
            "9\n",
            "12\n",
            "15\n",
            "18\n",
            "21\n",
            "24\n",
            "27\n",
            "30\n",
            "33\n",
            "36\n",
            "39\n",
            "42\n",
            "45\n",
            "48\n",
            "51\n",
            "54\n",
            "57\n",
            "60\n",
            "63\n",
            "66\n",
            "69\n",
            "72\n",
            "75\n",
            "78\n",
            "81\n",
            "84\n",
            "87\n",
            "90\n",
            "93\n",
            "96\n",
            "99\n"
          ]
        }
      ]
    },
    {
      "cell_type": "markdown",
      "source": [
        "Problema 3.\n",
        "Pseudocódigo, Sumador y comparador de dos números Realiza el algoritmo para un sumador de dos números. Si el resultado es menor a 100 se mostrará el mensaje \"menor a 100\", si el resultado es mayor a 100, pero menor a 150 mostrará el mensaje \"mayor a 100\", pero si es mayor a 150 mostrará el mensaje \"mayor a 150\"."
      ],
      "metadata": {
        "id": "VgpKDWR7Cju2"
      }
    },
    {
      "cell_type": "code",
      "source": [
        "num1 = float(input(\"Ingrese el primer número: \"))\n",
        "num2 = float(input(\"Ingrese el segundo número: \"))\n",
        "\n",
        "# Sumar los números\n",
        "resultado = num1 + num2\n",
        "\n",
        "# Comparar el resultado con los umbrales y mostrar mensajes\n",
        "if resultado < 100:\n",
        "    print(\"El resultado es menor a 100\")\n",
        "elif resultado <= 150:\n",
        "    print(\"El resultado es mayor o igual a 100 pero menor o igual a 150\")\n",
        "else:\n",
        "    print(\"El resultado es mayor a 150\")"
      ],
      "metadata": {
        "colab": {
          "base_uri": "https://localhost:8080/"
        },
        "id": "Oc1czzUZCnI6",
        "outputId": "4cf7052c-8f3e-4f77-a594-06a7ce889386"
      },
      "execution_count": 2,
      "outputs": [
        {
          "output_type": "stream",
          "name": "stdout",
          "text": [
            "Ingrese el primer número: 200\n",
            "Ingrese el segundo número: 30\n",
            "El resultado es mayor a 150\n"
          ]
        }
      ]
    },
    {
      "cell_type": "markdown",
      "source": [
        "Problema 4. Pseudocódigo, Calculador de promedio\n",
        "Generar un programa que combine variables, tipos de datos y una condicional en Python (hacer una función que evalúe si el usuario es mayor de edad y si le gusta la programación, que envíe diferentes textos según la respuesta del usuario)"
      ],
      "metadata": {
        "id": "_fHnuwb6ElZN"
      }
    },
    {
      "cell_type": "code",
      "source": [
        "def evaluar_usuario():\n",
        "    edad = int(input(\"¿Cuál es tu edad? \"))\n",
        "    le_gusta_programar = input(\"¿Te gusta la programación? (Sí/No) \").strip().lower() == \"si\"\n",
        "\n",
        "    if edad >= 18 and le_gusta_programar:\n",
        "        print(\"Eres mayor de edad y te gusta la programación. ¡Bienvenido!\")\n",
        "    elif edad < 18:\n",
        "        print(\"Eres menor de edad. Debes ser mayor de edad para continuar.\")\n",
        "    elif not le_gusta_programar:\n",
        "        print(\"No te gusta la programación. ¿Qué te interesa?\")\n",
        "\n",
        "# Llama a la función para evaluar al usuario\n",
        "evaluar_usuario()"
      ],
      "metadata": {
        "colab": {
          "base_uri": "https://localhost:8080/"
        },
        "id": "1Fl--ZZTFGBl",
        "outputId": "b3b52178-7615-45af-c953-a6bc2b60b5ed"
      },
      "execution_count": 8,
      "outputs": [
        {
          "output_type": "stream",
          "name": "stdout",
          "text": [
            "¿Cuál es tu edad? 21\n",
            "¿Te gusta la programación? (Sí/No) No\n",
            "No te gusta la programación. ¿Qué te interesa?\n"
          ]
        }
      ]
    }
  ]
}